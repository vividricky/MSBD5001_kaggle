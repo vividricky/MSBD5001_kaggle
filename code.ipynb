{
 "cells": [
  {
   "cell_type": "code",
   "execution_count": 122,
   "id": "3de49cba",
   "metadata": {},
   "outputs": [],
   "source": [
    "import numpy as np\n",
    "import pandas as pd\n",
    "import xgboost\n",
    "import lightgbm as lgbm"
   ]
  },
  {
   "cell_type": "code",
   "execution_count": 52,
   "id": "83f34ce3",
   "metadata": {},
   "outputs": [],
   "source": [
    "train = pd.read_csv(\"train.csv\")\n",
    "test = pd.read_csv('test.csv')\n",
    "test = test.drop(['id'],axis=1)"
   ]
  },
  {
   "cell_type": "code",
   "execution_count": 53,
   "id": "4076cc72",
   "metadata": {},
   "outputs": [],
   "source": [
    "train_label = train['label']\n",
    "train_data = train.drop(['label','id'],axis=1)"
   ]
  },
  {
   "cell_type": "markdown",
   "id": "1e892c8c",
   "metadata": {},
   "source": [
    "## XGboost"
   ]
  },
  {
   "cell_type": "code",
   "execution_count": 100,
   "id": "5c1aa2b2",
   "metadata": {},
   "outputs": [],
   "source": [
    "params = {\n",
    "    'booster':'gbtree',\n",
    "    'objective':'multi:softmax',  \n",
    "    'num_class':2,  \n",
    "    'gamma':0.1,    \n",
    "    'max_depth':10,  \n",
    "    'lambda':2, \n",
    "    'subsample':0.7,\n",
    "    'colsample_bytree':1,\n",
    "    'eta':0.007,  \n",
    "    'seed':1000,\n",
    "    'nthread':7,  \n",
    "    #'eval_metric':'auc'\n",
    "}"
   ]
  },
  {
   "cell_type": "code",
   "execution_count": 118,
   "id": "24cc0a1f",
   "metadata": {},
   "outputs": [
    {
     "name": "stdout",
     "output_type": "stream",
     "text": [
      "[13:55:02] WARNING: ..\\src\\learner.cc:576: \n",
      "Parameters: { \"silent\" } might not be used.\n",
      "\n",
      "  This could be a false alarm, with some parameters getting used by language bindings but\n",
      "  then being mistakenly passed down to XGBoost core, or some parameter actually being used\n",
      "  but getting flagged wrongly here. Please open an issue if you find any such cases.\n",
      "\n",
      "\n",
      "[13:55:02] WARNING: ..\\src\\learner.cc:1115: Starting in XGBoost 1.3.0, the default evaluation metric used with the objective 'multi:softmax' was changed from 'merror' to 'mlogloss'. Explicitly set eval_metric if you'd like to restore the old behavior.\n"
     ]
    }
   ],
   "source": [
    "Dtrain = xgboost.DMatrix(train_data,train_label)\n",
    "plt = list(params.items())\n",
    "model  = xgboost.train(plt,Dtrain,200)"
   ]
  },
  {
   "cell_type": "code",
   "execution_count": 119,
   "id": "62c9da64",
   "metadata": {},
   "outputs": [],
   "source": [
    "Dtest =xgboost.DMatrix(test)\n",
    "pre = model.predict(Dtest).astype(int)"
   ]
  },
  {
   "cell_type": "code",
   "execution_count": 80,
   "id": "3b12c1bd",
   "metadata": {},
   "outputs": [],
   "source": [
    "res=pd.DataFrame(pre.astype(int))\n",
    "res.to_csv(\"result3.csv\")"
   ]
  },
  {
   "cell_type": "markdown",
   "id": "0f69edc4",
   "metadata": {},
   "source": [
    "## LGBM"
   ]
  },
  {
   "cell_type": "code",
   "execution_count": 144,
   "id": "ed55587c",
   "metadata": {},
   "outputs": [],
   "source": [
    "lg = lgbm.LGBMClassifier(boosting_type='gbdt', objective='binary', num_leaves=50,\n",
    "                                learning_rate=0.1, n_estimators=500, max_depth=5,\n",
    "                                bagging_fraction=0.9, feature_fraction=0.9, reg_lambda=0.2)"
   ]
  },
  {
   "cell_type": "code",
   "execution_count": 145,
   "id": "6946ddc5",
   "metadata": {},
   "outputs": [
    {
     "name": "stdout",
     "output_type": "stream",
     "text": [
      "[LightGBM] [Warning] feature_fraction is set=0.9, colsample_bytree=1.0 will be ignored. Current value: feature_fraction=0.9\n",
      "[LightGBM] [Warning] bagging_fraction is set=0.9, subsample=1.0 will be ignored. Current value: bagging_fraction=0.9\n"
     ]
    }
   ],
   "source": [
    "lg.fit(train_data,train_label)\n",
    "lg_pred =lg.predict(test)"
   ]
  },
  {
   "cell_type": "code",
   "execution_count": 147,
   "id": "9fddad77",
   "metadata": {},
   "outputs": [
    {
     "data": {
      "text/plain": [
       "array([0, 0, 0, 0, 0, 0, 0, 0, 1, 0, 0, 1, 0, 0, 0, 0, 0, 0, 0, 0, 1, 0,\n",
       "       0, 0, 0, 1, 1, 0, 1, 0, 1, 1, 0, 1, 1, 0, 0, 1, 1, 0, 1, 0, 0, 0,\n",
       "       0, 0, 1, 1, 0, 0, 0, 0, 0, 0, 1, 0, 0, 0, 1], dtype=int64)"
      ]
     },
     "execution_count": 147,
     "metadata": {},
     "output_type": "execute_result"
    }
   ],
   "source": [
    "lg_pred"
   ]
  }
 ],
 "metadata": {
  "kernelspec": {
   "display_name": "Python 3",
   "language": "python",
   "name": "python3"
  },
  "language_info": {
   "codemirror_mode": {
    "name": "ipython",
    "version": 3
   },
   "file_extension": ".py",
   "mimetype": "text/x-python",
   "name": "python",
   "nbconvert_exporter": "python",
   "pygments_lexer": "ipython3",
   "version": "3.8.8"
  }
 },
 "nbformat": 4,
 "nbformat_minor": 5
}
